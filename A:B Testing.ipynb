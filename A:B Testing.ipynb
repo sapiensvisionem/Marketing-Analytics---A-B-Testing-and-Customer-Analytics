{
 "cells": [
  {
   "cell_type": "markdown",
   "metadata": {},
   "source": [
    "# What is A/B Testing? \n",
    "\n",
    "experiment to set one value of variable againt another and see how it affects an outcome\n",
    "#### Goal: Uncover causal realtionships"
   ]
  },
  {
   "cell_type": "markdown",
   "metadata": {},
   "source": [
    "### key components:\n",
    "    - control and treatment groups\n",
    "    - random assignment of individuals: \n",
    "    - randomization eliminates of confounding variables and isolate the treatment effect\n",
    "    - monitor the KPI of both groups and how they change      "
   ]
  },
  {
   "cell_type": "markdown",
   "metadata": {},
   "source": [
    "### key properties:\n",
    "    - A/B tests leverage the power of randomness to identify causal relationships. By randomly assigning users, A/B tests can isolate causal relationships.\n",
    "    - A/B testing can be applied to more than two groups generally. While most commonly done with two groups, A/B tests can be applied with any practical number of variants.\n",
    "    - While A/B testing can be subtle, in many cases it changes the underlying user experience.\n",
    "    - A/B tests can provide statistical summaries such as confidence intervals. The power of A/B testing comes from their statistical rigour.\n",
    "\n"
   ]
  },
  {
   "cell_type": "markdown",
   "metadata": {},
   "source": [
    "#### Applications:\n",
    "    - improve sales for mobile app\n",
    "    - change in assembly line"
   ]
  },
  {
   "cell_type": "markdown",
   "metadata": {},
   "source": [
    "#### Good problems for A/B Testing\n",
    "- individuals affected\n",
    "- testing behaviors that can change\n",
    "- e.g. Determining whether changing the song recommendation algorithm for a music service increases user engagement.\n",
    "\n",
    "#### Bad problems for A/B Testing\n",
    "- network effect (eg. dating app): difficult to disentangle the effect of cluster\n",
    "- challenging to segment users into groups\n",
    "- e.g1. Measuring the impact of a matching engine on user connections for a social network. While an A/B test could be used, it can be difficult to untangle the impact of a test when dealing with user interactions.\n",
    "- e.g2. Uncovering the impact of a code refactor on product stability. This problem is best solved by exact crash rate metrics not an A/B test.\n",
    "- e.g3. Determining the long term impact of a product design change on user retention. An A/B test could potentially be applied, but often A/B testing can become unwieldy when run for long periods of time.\n"
   ]
  },
  {
   "cell_type": "markdown",
   "metadata": {},
   "source": [
    "#### Bad Generalization Practices:\n",
    "    - Assigning users to the Test or Variant group based on their signup year. user base may evolve over time and this could potentially be introducing a bias.\n",
    "    - Randomly assigning users within one country to different groups. this would be generalizable to users within that country, but potentially not to users in other places.\n",
    "    - Allowing users to change groups every time they use the service or software. it would be impossible to then correlate the change in the user behavior to the treatment.\n",
    "    \n",
    "#### Good Generalization Practices:\n",
    "    - Using a hash of the randomly assigned user id to determine user groupings. This is a fine thing to do and a common way to tie the group a user belongs to to their identity."
   ]
  },
  {
   "cell_type": "markdown",
   "metadata": {},
   "source": [
    "# Initial A/B Test Design"
   ]
  },
  {
   "cell_type": "code",
   "execution_count": null,
   "metadata": {},
   "outputs": [],
   "source": [
    "- response\n",
    "- variants\n",
    "- experimental unit"
   ]
  },
  {
   "cell_type": "code",
   "execution_count": null,
   "metadata": {},
   "outputs": [],
   "source": []
  },
  {
   "cell_type": "code",
   "execution_count": null,
   "metadata": {},
   "outputs": [],
   "source": []
  },
  {
   "cell_type": "code",
   "execution_count": null,
   "metadata": {},
   "outputs": [],
   "source": []
  },
  {
   "cell_type": "code",
   "execution_count": null,
   "metadata": {},
   "outputs": [],
   "source": []
  },
  {
   "cell_type": "code",
   "execution_count": null,
   "metadata": {},
   "outputs": [],
   "source": []
  },
  {
   "cell_type": "code",
   "execution_count": null,
   "metadata": {},
   "outputs": [],
   "source": []
  },
  {
   "cell_type": "code",
   "execution_count": null,
   "metadata": {},
   "outputs": [],
   "source": []
  },
  {
   "cell_type": "code",
   "execution_count": null,
   "metadata": {},
   "outputs": [],
   "source": []
  },
  {
   "cell_type": "code",
   "execution_count": null,
   "metadata": {},
   "outputs": [],
   "source": []
  },
  {
   "cell_type": "code",
   "execution_count": null,
   "metadata": {},
   "outputs": [],
   "source": []
  },
  {
   "cell_type": "code",
   "execution_count": null,
   "metadata": {},
   "outputs": [],
   "source": []
  },
  {
   "cell_type": "code",
   "execution_count": null,
   "metadata": {},
   "outputs": [],
   "source": []
  },
  {
   "cell_type": "code",
   "execution_count": null,
   "metadata": {},
   "outputs": [],
   "source": []
  },
  {
   "cell_type": "code",
   "execution_count": null,
   "metadata": {},
   "outputs": [],
   "source": []
  },
  {
   "cell_type": "code",
   "execution_count": null,
   "metadata": {},
   "outputs": [],
   "source": []
  }
 ],
 "metadata": {
  "kernelspec": {
   "display_name": "Python 3",
   "language": "python",
   "name": "python3"
  },
  "language_info": {
   "codemirror_mode": {
    "name": "ipython",
    "version": 3
   },
   "file_extension": ".py",
   "mimetype": "text/x-python",
   "name": "python",
   "nbconvert_exporter": "python",
   "pygments_lexer": "ipython3",
   "version": "3.7.4"
  }
 },
 "nbformat": 4,
 "nbformat_minor": 2
}
